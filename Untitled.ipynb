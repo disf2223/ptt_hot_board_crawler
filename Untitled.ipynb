{
 "cells": [
  {
   "cell_type": "code",
   "execution_count": null,
   "metadata": {},
   "outputs": [],
   "source": [
    "import re\n",
    "import time\n",
    "import urllib\n",
    "from multiprocessing import Pool\n",
    "import requests\n",
    "from requests_html import HTML\n",
    "from utils import pretty_print\n",
    "import pymongo"
   ]
  },
  {
   "cell_type": "code",
   "execution_count": null,
   "metadata": {},
   "outputs": [],
   "source": [
    "myclient = pymongo.MongoClient('http://localhost')     \n",
    "db = myclient.DB104G1\n",
    "col = db.merged"
   ]
  },
  {
   "cell_type": "code",
   "execution_count": 48,
   "metadata": {},
   "outputs": [],
   "source": [
    "import re\n",
    "import time\n",
    "import urllib\n",
    "from multiprocessing import Pool\n",
    "import requests\n",
    "from requests_html import HTML\n",
    "from utils import pretty_print\n",
    "\n",
    "def page_info(url):                                                                    #擷取網頁頁面\n",
    "    response = requests.get(url, cookies={'over18': '1'})  # 一直向 server 回答滿 18 歲了 !\n",
    "    return response\n",
    "\n",
    "def get_board_link(doc):                                                             #抓整行區塊\n",
    "    board_urls = []\n",
    "    html = HTML(html=doc)\n",
    "    board_links = html.find('div.b-ent a.board')                                     #抓取各版網址\n",
    "    for board_link in board_links:\n",
    "        link = board_link.attrs.get('href')\n",
    "        board_urls.append(urllib.parse.urljoin('https://www.ptt.cc/', link))\n",
    "    return board_urls\n",
    "\n",
    "# def get_article_data(board_url_list):\n",
    "#     def get_article_link(doc):\n",
    "#         article_urls = []\n",
    "#         html = HTML(html=doc)\n",
    "#         article_links = html.find('div.title a')                                      # 抓取各文章網址\n",
    "#         for article_link in article_links:\n",
    "#             art_link = article_link.attrs.get('href')\n",
    "#             article_urls.append(urllib.parse.urljoin('https://www.ptt.cc/', art_link))\n",
    "#         return article_urls\n",
    "\n",
    "#     def next_page_link(doc):\n",
    "#         html = HTML(html=doc)\n",
    "#         next_link = html.find('.action-bar a.btn.wide')\n",
    "#         link = next_link[1].attrs.get('href')\n",
    "#         return urllib.parse.urljoin('https://www.ptt.cc/', link)\n",
    "\n",
    "#     for board_url in board_url_list:\n",
    "#         board_resp = page_info(board_url)\n",
    "#         article_urls = get_article_link(board_resp.text)\n",
    "#         for article_url in article_urls:\n",
    "#             article_resp = page_info(article_url)\n",
    "            \n",
    "def get_article_link(doc):\n",
    "    article_urls = []\n",
    "    html = HTML(html=doc)\n",
    "    article_links = html.find('div.title a')                                      # 抓取各文章網址\n",
    "    for article_link in article_links:\n",
    "        art_link = article_link.attrs.get('href')\n",
    "        article_urls.append(urllib.parse.urljoin('https://www.ptt.cc/', art_link))\n",
    "    return article_urls\n",
    "\n",
    "def next_page_link(doc):\n",
    "    html = HTML(html=doc)\n",
    "    next_link = html.find('.action-bar a.btn.wide')\n",
    "    link = next_link[1].attrs.get('href')\n",
    "    next_url = urllib.parse.urljoin('https://www.ptt.cc/', link)\n",
    "    return next_url\n",
    "\n",
    "def get_meta_data(doc):\n",
    "    mata = {}\n",
    "    push_list = []\n",
    "    html = HTML(html=doc)\n",
    "    mata['作者'] = html.find('span.article-meta-value')[0].text\n",
    "    mata['標題'] = html.find('span.article-meta-value')[2].text\n",
    "    mata['文章分類'] = html.find('span.article-meta-value')[1].text\n",
    "    mata['內文'] = html.find('div#main-container')[0].text.split('--')[0].split(\"\\n\")[4]\n",
    "    mata['貼文時間'] = html.find('span.article-meta-value')[3].text\n",
    "    mata['標準網址'] = article_url\n",
    "    art_pushs = html.find('div.push')\n",
    "    for art_push in art_pushs:\n",
    "        push_list.append(art_push.text)\n",
    "    mata['推文'] = push_list\n",
    "    return mata\n",
    "    "
   ]
  },
  {
   "cell_type": "code",
   "execution_count": 11,
   "metadata": {
    "scrolled": true
   },
   "outputs": [],
   "source": [
    "url = 'https://www.ptt.cc/bbs/index.html'\n",
    "resp = page_info(url)\n",
    "board_urls = get_board_link(resp.text)"
   ]
  },
  {
   "cell_type": "code",
   "execution_count": null,
   "metadata": {},
   "outputs": [],
   "source": [
    "for board_url in board_urls:\n",
    "    board_resp = page_info(board_url)\n",
    "    article_urls = get_article_link(board_resp.text)\n",
    "    for article_url in article_urls:\n",
    "        article_resp = page_info(article_url)\n",
    "        meta = get_meta_data(article_resp.text)\n",
    "        tcol.insert_one(meta)\n",
    "    while next_page_link(board_resp.text) != 0:\n",
    "        board_resp = page_info(next_page_link(board_resp.text))\n",
    "        article_urls = get_article_link(board_resp.text)\n",
    "        for article_url in article_urls:\n",
    "            article_resp = page_info(article_url)\n",
    "            meta = get_meta_data(article_resp.text)\n",
    "            print(meta)\n",
    "            tcol.insert_one(meta)\n"
   ]
  },
  {
   "cell_type": "code",
   "execution_count": null,
   "metadata": {},
   "outputs": [],
   "source": []
  }
 ],
 "metadata": {
  "kernelspec": {
   "display_name": "Python 3",
   "language": "python",
   "name": "python3"
  },
  "language_info": {
   "codemirror_mode": {
    "name": "ipython",
    "version": 3
   },
   "file_extension": ".py",
   "mimetype": "text/x-python",
   "name": "python",
   "nbconvert_exporter": "python",
   "pygments_lexer": "ipython3",
   "version": "3.7.1"
  }
 },
 "nbformat": 4,
 "nbformat_minor": 4
}
